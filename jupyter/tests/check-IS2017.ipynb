{
 "cells": [
  {
   "cell_type": "code",
   "execution_count": 1,
   "metadata": {},
   "outputs": [],
   "source": [
    "import pandas as pd\n",
    "import numpy as np\n",
    "import os, sys"
   ]
  },
  {
   "cell_type": "code",
   "execution_count": 23,
   "metadata": {},
   "outputs": [],
   "source": [
    "pred_1_fp = '../../results-agg/clst-IS2017-1-repacked/predictive-output.csv'\n",
    "pred_2_fp = '../../results-agg/clst-IS2017-2-repacked/predictive-output.csv'\n",
    "\n",
    "pred_1_df = pd.read_csv(pred_1_fp)\n",
    "pred_2_df = pd.read_csv(pred_2_fp)"
   ]
  },
  {
   "cell_type": "code",
   "execution_count": 21,
   "metadata": {},
   "outputs": [
    {
     "data": {
      "text/plain": [
       "array([nan, 'P272-L31', 'P272-L62', 'P285-L13', 'P285-L56', 'P291-L51',\n",
       "       'P291-L22', 'P284-L34', 'P284-L48', 'P275-L1', 'P275-L52',\n",
       "       'P241-L50', 'P241-L37', 'P246-L10', 'P246-L49'], dtype=object)"
      ]
     },
     "execution_count": 21,
     "metadata": {},
     "output_type": "execute_result"
    }
   ],
   "source": [
    "(pred_1_df['model'] + '-' + pred_1_df['log']).unique()"
   ]
  },
  {
   "cell_type": "code",
   "execution_count": 22,
   "metadata": {},
   "outputs": [
    {
     "data": {
      "text/plain": [
       "array([nan, 'P381-L63', 'P381-L4', 'P383-L61', 'P383-L16', 'P430-L19',\n",
       "       'P430-L57', 'P313-L59', 'P313-L25', 'P347-L58', 'P436-L54',\n",
       "       'P307-L53'], dtype=object)"
      ]
     },
     "execution_count": 22,
     "metadata": {},
     "output_type": "execute_result"
    }
   ],
   "source": [
    "(pred_2_df['model'] + '-' + pred_2_df['log']).unique()"
   ]
  },
  {
   "cell_type": "code",
   "execution_count": null,
   "metadata": {},
   "outputs": [],
   "source": []
  },
  {
   "cell_type": "code",
   "execution_count": 24,
   "metadata": {},
   "outputs": [
    {
     "data": {
      "text/plain": [
       "array([nan, 'P272-L31', 'P272-L62', 'P284-L34', 'P284-L48', 'P246-L49',\n",
       "       'P246-L10', 'P241-L50', 'P241-L37', 'P285-L56', 'P285-L13',\n",
       "       'P291-L22', 'P291-L51', 'P275-L1', 'P275-L52'], dtype=object)"
      ]
     },
     "execution_count": 24,
     "metadata": {},
     "output_type": "execute_result"
    }
   ],
   "source": [
    "(pred_1_df['model'] + '-' + pred_1_df['log']).unique()"
   ]
  },
  {
   "cell_type": "code",
   "execution_count": 25,
   "metadata": {},
   "outputs": [
    {
     "data": {
      "text/plain": [
       "array([nan, 'P436-L54', 'P436-L46', 'P383-L16', 'P383-L61', 'P430-L19',\n",
       "       'P430-L57', 'P297-L7', 'P297-L55', 'P347-L58', 'P347-L40',\n",
       "       'P313-L59', 'P313-L25', 'P381-L4', 'P381-L63', 'P307-L28',\n",
       "       'P307-L53'], dtype=object)"
      ]
     },
     "execution_count": 25,
     "metadata": {},
     "output_type": "execute_result"
    }
   ],
   "source": [
    "(pred_2_df['model'] +t '-' + pred_2_df['log']).unique()"
   ]
  }
 ],
 "metadata": {
  "kernelspec": {
   "display_name": "Python (alignclf)",
   "language": "python",
   "name": "alignclf"
  },
  "language_info": {
   "codemirror_mode": {
    "name": "ipython",
    "version": 3
   },
   "file_extension": ".py",
   "mimetype": "text/x-python",
   "name": "python",
   "nbconvert_exporter": "python",
   "pygments_lexer": "ipython3",
   "version": "3.5.2"
  }
 },
 "nbformat": 4,
 "nbformat_minor": 2
}
